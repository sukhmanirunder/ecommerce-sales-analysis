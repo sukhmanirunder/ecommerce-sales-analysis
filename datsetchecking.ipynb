{
 "cells": [
  {
   "cell_type": "code",
   "execution_count": 2,
   "id": "aa3ec317",
   "metadata": {},
   "outputs": [
    {
     "data": {
      "text/html": [
       "<div>\n",
       "<style scoped>\n",
       "    .dataframe tbody tr th:only-of-type {\n",
       "        vertical-align: middle;\n",
       "    }\n",
       "\n",
       "    .dataframe tbody tr th {\n",
       "        vertical-align: top;\n",
       "    }\n",
       "\n",
       "    .dataframe thead th {\n",
       "        text-align: right;\n",
       "    }\n",
       "</style>\n",
       "<table border=\"1\" class=\"dataframe\">\n",
       "  <thead>\n",
       "    <tr style=\"text-align: right;\">\n",
       "      <th></th>\n",
       "      <th>Row ID</th>\n",
       "      <th>Order ID</th>\n",
       "      <th>Order Date</th>\n",
       "      <th>Ship Date</th>\n",
       "      <th>Ship Mode</th>\n",
       "      <th>Customer ID</th>\n",
       "      <th>Customer Name</th>\n",
       "      <th>Segment</th>\n",
       "      <th>Country</th>\n",
       "      <th>City</th>\n",
       "      <th>...</th>\n",
       "      <th>Postal Code</th>\n",
       "      <th>Region</th>\n",
       "      <th>Product ID</th>\n",
       "      <th>Category</th>\n",
       "      <th>Sub-Category</th>\n",
       "      <th>Product Name</th>\n",
       "      <th>Sales</th>\n",
       "      <th>Quantity</th>\n",
       "      <th>Discount</th>\n",
       "      <th>Profit</th>\n",
       "    </tr>\n",
       "  </thead>\n",
       "  <tbody>\n",
       "    <tr>\n",
       "      <th>0</th>\n",
       "      <td>1</td>\n",
       "      <td>ORD-2021001</td>\n",
       "      <td>2022-07-19</td>\n",
       "      <td>2022-07-24</td>\n",
       "      <td>First Class</td>\n",
       "      <td>CUST-1001</td>\n",
       "      <td>Aarush Chander</td>\n",
       "      <td>Regular Buyer</td>\n",
       "      <td>India</td>\n",
       "      <td>Coimbatore</td>\n",
       "      <td>...</td>\n",
       "      <td>901197</td>\n",
       "      <td>East</td>\n",
       "      <td>PROD-3001</td>\n",
       "      <td>Electronics</td>\n",
       "      <td>Smartphone</td>\n",
       "      <td>Smartphone - Mi</td>\n",
       "      <td>5830.65</td>\n",
       "      <td>2</td>\n",
       "      <td>0.2</td>\n",
       "      <td>-230.66</td>\n",
       "    </tr>\n",
       "    <tr>\n",
       "      <th>1</th>\n",
       "      <td>2</td>\n",
       "      <td>ORD-2021002</td>\n",
       "      <td>2021-01-29</td>\n",
       "      <td>2021-01-31</td>\n",
       "      <td>First Class</td>\n",
       "      <td>CUST-1002</td>\n",
       "      <td>Pihu Chaudhari</td>\n",
       "      <td>Prime Member</td>\n",
       "      <td>India</td>\n",
       "      <td>Howrah</td>\n",
       "      <td>...</td>\n",
       "      <td>150451</td>\n",
       "      <td>South</td>\n",
       "      <td>PROD-3002</td>\n",
       "      <td>Electronics</td>\n",
       "      <td>Earphones</td>\n",
       "      <td>Earphones - OnePlus</td>\n",
       "      <td>25185.19</td>\n",
       "      <td>4</td>\n",
       "      <td>0.2</td>\n",
       "      <td>1000.67</td>\n",
       "    </tr>\n",
       "    <tr>\n",
       "      <th>2</th>\n",
       "      <td>3</td>\n",
       "      <td>ORD-2021003</td>\n",
       "      <td>2022-07-19</td>\n",
       "      <td>2022-07-23</td>\n",
       "      <td>First Class</td>\n",
       "      <td>CUST-1003</td>\n",
       "      <td>Emir Balakrishnan</td>\n",
       "      <td>Bulk Buyer</td>\n",
       "      <td>India</td>\n",
       "      <td>Chennai</td>\n",
       "      <td>...</td>\n",
       "      <td>267834</td>\n",
       "      <td>South</td>\n",
       "      <td>PROD-3003</td>\n",
       "      <td>Beauty &amp; Personal Care</td>\n",
       "      <td>Lipstick</td>\n",
       "      <td>Lipstick - Mamaearth</td>\n",
       "      <td>24316.53</td>\n",
       "      <td>2</td>\n",
       "      <td>0.2</td>\n",
       "      <td>4830.83</td>\n",
       "    </tr>\n",
       "    <tr>\n",
       "      <th>3</th>\n",
       "      <td>4</td>\n",
       "      <td>ORD-2021004</td>\n",
       "      <td>2022-09-11</td>\n",
       "      <td>2022-09-16</td>\n",
       "      <td>Standard Class</td>\n",
       "      <td>CUST-1004</td>\n",
       "      <td>Priyansh Vasa</td>\n",
       "      <td>Bulk Buyer</td>\n",
       "      <td>India</td>\n",
       "      <td>Bhopal</td>\n",
       "      <td>...</td>\n",
       "      <td>41652</td>\n",
       "      <td>North</td>\n",
       "      <td>PROD-3004</td>\n",
       "      <td>Sports &amp; Fitness</td>\n",
       "      <td>Cricket Bat</td>\n",
       "      <td>Cricket Bat - SG</td>\n",
       "      <td>9248.73</td>\n",
       "      <td>2</td>\n",
       "      <td>0.0</td>\n",
       "      <td>642.91</td>\n",
       "    </tr>\n",
       "    <tr>\n",
       "      <th>4</th>\n",
       "      <td>5</td>\n",
       "      <td>ORD-2021005</td>\n",
       "      <td>2021-07-23</td>\n",
       "      <td>2021-07-29</td>\n",
       "      <td>Second Class</td>\n",
       "      <td>CUST-1005</td>\n",
       "      <td>Jayesh Chakraborty</td>\n",
       "      <td>Bulk Buyer</td>\n",
       "      <td>India</td>\n",
       "      <td>Kanpur</td>\n",
       "      <td>...</td>\n",
       "      <td>89494</td>\n",
       "      <td>West</td>\n",
       "      <td>PROD-3005</td>\n",
       "      <td>Electronics</td>\n",
       "      <td>Smartwatch</td>\n",
       "      <td>Smartwatch - OnePlus</td>\n",
       "      <td>14365.07</td>\n",
       "      <td>3</td>\n",
       "      <td>0.2</td>\n",
       "      <td>754.51</td>\n",
       "    </tr>\n",
       "  </tbody>\n",
       "</table>\n",
       "<p>5 rows × 21 columns</p>\n",
       "</div>"
      ],
      "text/plain": [
       "   Row ID     Order ID  Order Date   Ship Date       Ship Mode Customer ID  \\\n",
       "0       1  ORD-2021001  2022-07-19  2022-07-24     First Class   CUST-1001   \n",
       "1       2  ORD-2021002  2021-01-29  2021-01-31     First Class   CUST-1002   \n",
       "2       3  ORD-2021003  2022-07-19  2022-07-23     First Class   CUST-1003   \n",
       "3       4  ORD-2021004  2022-09-11  2022-09-16  Standard Class   CUST-1004   \n",
       "4       5  ORD-2021005  2021-07-23  2021-07-29    Second Class   CUST-1005   \n",
       "\n",
       "        Customer Name        Segment Country        City  ... Postal Code  \\\n",
       "0      Aarush Chander  Regular Buyer   India  Coimbatore  ...      901197   \n",
       "1      Pihu Chaudhari   Prime Member   India      Howrah  ...      150451   \n",
       "2   Emir Balakrishnan     Bulk Buyer   India     Chennai  ...      267834   \n",
       "3       Priyansh Vasa     Bulk Buyer   India      Bhopal  ...       41652   \n",
       "4  Jayesh Chakraborty     Bulk Buyer   India      Kanpur  ...       89494   \n",
       "\n",
       "   Region Product ID                Category Sub-Category  \\\n",
       "0    East  PROD-3001             Electronics   Smartphone   \n",
       "1   South  PROD-3002             Electronics    Earphones   \n",
       "2   South  PROD-3003  Beauty & Personal Care     Lipstick   \n",
       "3   North  PROD-3004        Sports & Fitness  Cricket Bat   \n",
       "4    West  PROD-3005             Electronics   Smartwatch   \n",
       "\n",
       "           Product Name     Sales  Quantity  Discount   Profit  \n",
       "0       Smartphone - Mi   5830.65         2       0.2  -230.66  \n",
       "1   Earphones - OnePlus  25185.19         4       0.2  1000.67  \n",
       "2  Lipstick - Mamaearth  24316.53         2       0.2  4830.83  \n",
       "3      Cricket Bat - SG   9248.73         2       0.0   642.91  \n",
       "4  Smartwatch - OnePlus  14365.07         3       0.2   754.51  \n",
       "\n",
       "[5 rows x 21 columns]"
      ]
     },
     "execution_count": 2,
     "metadata": {},
     "output_type": "execute_result"
    }
   ],
   "source": [
    "import pandas as pd\n",
    "data=pd.read_csv(\"indian_ecommerce2.csv\")\n",
    "data.head()"
   ]
  },
  {
   "cell_type": "code",
   "execution_count": 3,
   "id": "54529721",
   "metadata": {},
   "outputs": [
    {
     "name": "stdout",
     "output_type": "stream",
     "text": [
      "<class 'pandas.core.frame.DataFrame'>\n",
      "RangeIndex: 9500 entries, 0 to 9499\n",
      "Data columns (total 21 columns):\n",
      " #   Column         Non-Null Count  Dtype  \n",
      "---  ------         --------------  -----  \n",
      " 0   Row ID         9500 non-null   int64  \n",
      " 1   Order ID       9500 non-null   object \n",
      " 2   Order Date     9500 non-null   object \n",
      " 3   Ship Date      9500 non-null   object \n",
      " 4   Ship Mode      9500 non-null   object \n",
      " 5   Customer ID    9500 non-null   object \n",
      " 6   Customer Name  9500 non-null   object \n",
      " 7   Segment        9500 non-null   object \n",
      " 8   Country        9500 non-null   object \n",
      " 9   City           9500 non-null   object \n",
      " 10  State          9500 non-null   object \n",
      " 11  Postal Code    9500 non-null   int64  \n",
      " 12  Region         9500 non-null   object \n",
      " 13  Product ID     9500 non-null   object \n",
      " 14  Category       9500 non-null   object \n",
      " 15  Sub-Category   9500 non-null   object \n",
      " 16  Product Name   9500 non-null   object \n",
      " 17  Sales          9500 non-null   float64\n",
      " 18  Quantity       9500 non-null   int64  \n",
      " 19  Discount       9500 non-null   float64\n",
      " 20  Profit         9500 non-null   float64\n",
      "dtypes: float64(3), int64(3), object(15)\n",
      "memory usage: 1.5+ MB\n"
     ]
    }
   ],
   "source": [
    "data.info()"
   ]
  },
  {
   "cell_type": "markdown",
   "id": "97333028",
   "metadata": {},
   "source": [
    "#convert datatype of dates from object to datetime"
   ]
  },
  {
   "cell_type": "code",
   "execution_count": 4,
   "id": "3eacba9b",
   "metadata": {},
   "outputs": [],
   "source": [
    "data[\"Ship Date\"]=pd.to_datetime(data[\"Ship Date\"])\n",
    "data[\"Order Date\"]=pd.to_datetime(data[\"Order Date\"])"
   ]
  },
  {
   "cell_type": "code",
   "execution_count": 5,
   "id": "ba8ccd78",
   "metadata": {},
   "outputs": [
    {
     "name": "stdout",
     "output_type": "stream",
     "text": [
      "<class 'pandas.core.frame.DataFrame'>\n",
      "RangeIndex: 9500 entries, 0 to 9499\n",
      "Data columns (total 21 columns):\n",
      " #   Column         Non-Null Count  Dtype         \n",
      "---  ------         --------------  -----         \n",
      " 0   Row ID         9500 non-null   int64         \n",
      " 1   Order ID       9500 non-null   object        \n",
      " 2   Order Date     9500 non-null   datetime64[ns]\n",
      " 3   Ship Date      9500 non-null   datetime64[ns]\n",
      " 4   Ship Mode      9500 non-null   object        \n",
      " 5   Customer ID    9500 non-null   object        \n",
      " 6   Customer Name  9500 non-null   object        \n",
      " 7   Segment        9500 non-null   object        \n",
      " 8   Country        9500 non-null   object        \n",
      " 9   City           9500 non-null   object        \n",
      " 10  State          9500 non-null   object        \n",
      " 11  Postal Code    9500 non-null   int64         \n",
      " 12  Region         9500 non-null   object        \n",
      " 13  Product ID     9500 non-null   object        \n",
      " 14  Category       9500 non-null   object        \n",
      " 15  Sub-Category   9500 non-null   object        \n",
      " 16  Product Name   9500 non-null   object        \n",
      " 17  Sales          9500 non-null   float64       \n",
      " 18  Quantity       9500 non-null   int64         \n",
      " 19  Discount       9500 non-null   float64       \n",
      " 20  Profit         9500 non-null   float64       \n",
      "dtypes: datetime64[ns](2), float64(3), int64(3), object(13)\n",
      "memory usage: 1.5+ MB\n"
     ]
    }
   ],
   "source": [
    "data.info()"
   ]
  },
  {
   "cell_type": "code",
   "execution_count": 6,
   "id": "ab9f6e68",
   "metadata": {},
   "outputs": [
    {
     "data": {
      "text/plain": [
       "Category\n",
       "Beauty & Personal Care    1604\n",
       "Electronics               1593\n",
       "Fashion                   1589\n",
       "Home & Kitchen            1587\n",
       "Books                     1570\n",
       "Sports & Fitness          1557\n",
       "Name: count, dtype: int64"
      ]
     },
     "execution_count": 6,
     "metadata": {},
     "output_type": "execute_result"
    }
   ],
   "source": [
    "data.Category.value_counts()"
   ]
  },
  {
   "cell_type": "code",
   "execution_count": 7,
   "id": "e0d37b70",
   "metadata": {},
   "outputs": [
    {
     "data": {
      "text/plain": [
       "City\n",
       "Hyderabad     985\n",
       "New Delhi     951\n",
       "Kanpur        502\n",
       "Udaipur       490\n",
       "Surat         477\n",
       "Lucknow       476\n",
       "Jaipur        476\n",
       "Howrah        468\n",
       "Indore        467\n",
       "Ahmedabad     464\n",
       "Kolkata       447\n",
       "Bhopal        429\n",
       "Pune          347\n",
       "Coimbatore    340\n",
       "Mysore        332\n",
       "Madurai       330\n",
       "Mumbai        322\n",
       "Hubli         311\n",
       "Chennai       298\n",
       "Nagpur        297\n",
       "Bangalore     291\n",
       "Name: count, dtype: int64"
      ]
     },
     "execution_count": 7,
     "metadata": {},
     "output_type": "execute_result"
    }
   ],
   "source": [
    "data.City.value_counts()\n"
   ]
  },
  {
   "cell_type": "code",
   "execution_count": 8,
   "id": "b39df74e",
   "metadata": {},
   "outputs": [
    {
     "data": {
      "text/plain": [
       "City\n",
       "False    ElectronicsElectronicsBeauty & Personal CareSp...\n",
       "True     FashionElectronicsFashionFashionElectronicsFas...\n",
       "Name: Category, dtype: object"
      ]
     },
     "execution_count": 8,
     "metadata": {},
     "output_type": "execute_result"
    }
   ],
   "source": [
    "data.groupby([data[\"City\"]==\"Hyderabad\"])[\"Category\"].sum()"
   ]
  },
  {
   "cell_type": "markdown",
   "id": "3222edb0",
   "metadata": {},
   "source": [
    "#find profit by category and sub category"
   ]
  },
  {
   "cell_type": "code",
   "execution_count": 9,
   "id": "2a5df95e",
   "metadata": {},
   "outputs": [
    {
     "data": {
      "text/plain": [
       "Category\n",
       "Beauty & Personal Care    1498594.91\n",
       "Books                      813558.17\n",
       "Electronics               1137773.11\n",
       "Fashion                    793917.07\n",
       "Home & Kitchen             776016.39\n",
       "Sports & Fitness           508035.83\n",
       "Name: Profit, dtype: float64"
      ]
     },
     "execution_count": 9,
     "metadata": {},
     "output_type": "execute_result"
    }
   ],
   "source": [
    "#question5\n",
    "Profit_By_Category=data.groupby(\"Category\")[\"Profit\"].sum()\n",
    "Profit_By_Category\n"
   ]
  },
  {
   "cell_type": "code",
   "execution_count": 10,
   "id": "9402d8f5",
   "metadata": {},
   "outputs": [
    {
     "data": {
      "text/plain": [
       "Sub-Category\n",
       "Bedsheet            156720.34\n",
       "Biography           148216.91\n",
       "Children            146743.70\n",
       "Comics              171278.54\n",
       "Cookware Set        151492.27\n",
       "Cricket Bat         159189.29\n",
       "Curtains            154562.94\n",
       "Dumbbells          -114953.22\n",
       "Earphones           339734.29\n",
       "Exam Preparation    177761.13\n",
       "Face Wash           438402.09\n",
       "Fiction             169557.89\n",
       "Football            149556.49\n",
       "Jeans               121351.38\n",
       "Kurtis              196212.55\n",
       "Laptop              455053.45\n",
       "Lipstick            603717.82\n",
       "Mixer Grinder       159213.76\n",
       "Moisturizer         136752.99\n",
       "Perfume             174307.89\n",
       "Power Bank          140624.32\n",
       "Saree               174815.89\n",
       "Shampoo             145414.12\n",
       "Shoes               160858.10\n",
       "Smartphone           46234.92\n",
       "Smartwatch          156126.13\n",
       "Storage Box         154027.08\n",
       "T-Shirt             140679.15\n",
       "Tennis Racquet      129945.23\n",
       "Yoga Mat            184298.04\n",
       "Name: Profit, dtype: float64"
      ]
     },
     "execution_count": 10,
     "metadata": {},
     "output_type": "execute_result"
    }
   ],
   "source": [
    "Profit_By_Sub_Category=data.groupby(\"Sub-Category\")[\"Profit\"].sum()\n",
    "Profit_By_Sub_Category"
   ]
  },
  {
   "cell_type": "markdown",
   "id": "26451611",
   "metadata": {},
   "source": [
    "#to find category value count in hydrabad"
   ]
  },
  {
   "cell_type": "code",
   "execution_count": 11,
   "id": "3b924b34",
   "metadata": {},
   "outputs": [
    {
     "data": {
      "text/plain": [
       "City   Category              \n",
       "False  Electronics               1438\n",
       "       Home & Kitchen            1435\n",
       "       Fashion                   1428\n",
       "       Beauty & Personal Care    1423\n",
       "       Books                     1414\n",
       "       Sports & Fitness          1377\n",
       "True   Beauty & Personal Care     181\n",
       "       Sports & Fitness           180\n",
       "       Fashion                    161\n",
       "       Books                      156\n",
       "       Electronics                155\n",
       "       Home & Kitchen             152\n",
       "Name: count, dtype: int64"
      ]
     },
     "execution_count": 11,
     "metadata": {},
     "output_type": "execute_result"
    }
   ],
   "source": [
    "data.groupby(data[\"City\"]==\"Hyderabad\")[\"Category\"].value_counts()"
   ]
  },
  {
   "cell_type": "markdown",
   "id": "c0ebf55e",
   "metadata": {},
   "source": [
    "#to  find profit according to city"
   ]
  },
  {
   "cell_type": "code",
   "execution_count": 12,
   "id": "3ec07e48",
   "metadata": {},
   "outputs": [
    {
     "data": {
      "text/plain": [
       "City\n",
       "Ahmedabad     253620.78\n",
       "Bangalore     164503.01\n",
       "Bhopal        245138.86\n",
       "Chennai       212868.95\n",
       "Coimbatore    206979.43\n",
       "Howrah        224457.67\n",
       "Hubli         173849.04\n",
       "Hyderabad     498807.72\n",
       "Indore        299915.40\n",
       "Jaipur        282921.22\n",
       "Kanpur        323488.31\n",
       "Kolkata       270657.20\n",
       "Lucknow       266763.90\n",
       "Madurai       194671.77\n",
       "Mumbai        172610.71\n",
       "Mysore        244750.48\n",
       "Nagpur        188148.95\n",
       "New Delhi     516105.03\n",
       "Pune          216288.35\n",
       "Surat         262351.51\n",
       "Udaipur       308997.19\n",
       "Name: Profit, dtype: float64"
      ]
     },
     "execution_count": 12,
     "metadata": {},
     "output_type": "execute_result"
    }
   ],
   "source": [
    "data.groupby(\"City\")[\"Profit\"].sum()\n"
   ]
  },
  {
   "cell_type": "markdown",
   "id": "f9077c0d",
   "metadata": {},
   "source": [
    "#find sales according to city"
   ]
  },
  {
   "cell_type": "code",
   "execution_count": 13,
   "id": "a5825fd7",
   "metadata": {},
   "outputs": [
    {
     "data": {
      "text/plain": [
       "City\n",
       "Ahmedabad      7029815.17\n",
       "Bangalore      4330293.62\n",
       "Bhopal         6544880.36\n",
       "Chennai        4782718.91\n",
       "Coimbatore     5185839.58\n",
       "Howrah         6806636.87\n",
       "Hubli          4779498.72\n",
       "Hyderabad     15117576.56\n",
       "Indore         7201826.33\n",
       "Jaipur         7503701.96\n",
       "Kanpur         7446164.51\n",
       "Kolkata        6943495.88\n",
       "Lucknow        7198938.89\n",
       "Madurai        4811936.10\n",
       "Mumbai         5014310.87\n",
       "Mysore         5206914.88\n",
       "Nagpur         4568666.17\n",
       "New Delhi     14177501.95\n",
       "Pune           5407607.23\n",
       "Surat          6980132.62\n",
       "Udaipur        7326955.05\n",
       "Name: Sales, dtype: float64"
      ]
     },
     "execution_count": 13,
     "metadata": {},
     "output_type": "execute_result"
    }
   ],
   "source": [
    "data.groupby(\"City\")[\"Sales\"].sum()"
   ]
  },
  {
   "cell_type": "markdown",
   "id": "8390c0ae",
   "metadata": {},
   "source": [
    "#Analyze the sales on the based on Category "
   ]
  },
  {
   "cell_type": "code",
   "execution_count": 14,
   "id": "177e70a0",
   "metadata": {},
   "outputs": [
    {
     "data": {
      "text/html": [
       "<div>\n",
       "<style scoped>\n",
       "    .dataframe tbody tr th:only-of-type {\n",
       "        vertical-align: middle;\n",
       "    }\n",
       "\n",
       "    .dataframe tbody tr th {\n",
       "        vertical-align: top;\n",
       "    }\n",
       "\n",
       "    .dataframe thead th {\n",
       "        text-align: right;\n",
       "    }\n",
       "</style>\n",
       "<table border=\"1\" class=\"dataframe\">\n",
       "  <thead>\n",
       "    <tr style=\"text-align: right;\">\n",
       "      <th></th>\n",
       "      <th>Category</th>\n",
       "      <th>Sales</th>\n",
       "    </tr>\n",
       "  </thead>\n",
       "  <tbody>\n",
       "    <tr>\n",
       "      <th>0</th>\n",
       "      <td>Beauty &amp; Personal Care</td>\n",
       "      <td>24326921.85</td>\n",
       "    </tr>\n",
       "    <tr>\n",
       "      <th>1</th>\n",
       "      <td>Books</td>\n",
       "      <td>23828245.52</td>\n",
       "    </tr>\n",
       "    <tr>\n",
       "      <th>2</th>\n",
       "      <td>Electronics</td>\n",
       "      <td>24369479.88</td>\n",
       "    </tr>\n",
       "    <tr>\n",
       "      <th>3</th>\n",
       "      <td>Fashion</td>\n",
       "      <td>23898347.73</td>\n",
       "    </tr>\n",
       "    <tr>\n",
       "      <th>4</th>\n",
       "      <td>Home &amp; Kitchen</td>\n",
       "      <td>24605472.60</td>\n",
       "    </tr>\n",
       "    <tr>\n",
       "      <th>5</th>\n",
       "      <td>Sports &amp; Fitness</td>\n",
       "      <td>23336944.65</td>\n",
       "    </tr>\n",
       "  </tbody>\n",
       "</table>\n",
       "</div>"
      ],
      "text/plain": [
       "                 Category        Sales\n",
       "0  Beauty & Personal Care  24326921.85\n",
       "1                   Books  23828245.52\n",
       "2             Electronics  24369479.88\n",
       "3                 Fashion  23898347.73\n",
       "4          Home & Kitchen  24605472.60\n",
       "5        Sports & Fitness  23336944.65"
      ]
     },
     "execution_count": 14,
     "metadata": {},
     "output_type": "execute_result"
    }
   ],
   "source": [
    "#question2\n",
    "Sales_by_product=data.groupby(\"Category\")[\"Sales\"].sum().reset_index()\n",
    "Sales_by_product"
   ]
  },
  {
   "cell_type": "markdown",
   "id": "dd39feea",
   "metadata": {},
   "source": []
  },
  {
   "cell_type": "code",
   "execution_count": 15,
   "id": "b0c79dcd",
   "metadata": {},
   "outputs": [
    {
     "data": {
      "text/plain": [
       "Category                Discount\n",
       "Beauty & Personal Care  0.00        418\n",
       "                        0.20        413\n",
       "                        0.05        395\n",
       "                        0.10        378\n",
       "Books                   0.20        429\n",
       "                        0.05        383\n",
       "                        0.00        382\n",
       "                        0.10        376\n",
       "Electronics             0.10        410\n",
       "                        0.20        398\n",
       "                        0.00        397\n",
       "                        0.05        388\n",
       "Fashion                 0.10        414\n",
       "                        0.00        405\n",
       "                        0.05        395\n",
       "                        0.20        375\n",
       "Home & Kitchen          0.20        436\n",
       "                        0.10        412\n",
       "                        0.05        391\n",
       "                        0.00        348\n",
       "Sports & Fitness        0.05        401\n",
       "                        0.20        397\n",
       "                        0.10        383\n",
       "                        0.00        376\n",
       "Name: count, dtype: int64"
      ]
     },
     "execution_count": 15,
     "metadata": {},
     "output_type": "execute_result"
    }
   ],
   "source": [
    "data.groupby([\"Category\"])[\"Discount\"].value_counts()"
   ]
  },
  {
   "cell_type": "markdown",
   "id": "fc8f25d2",
   "metadata": {},
   "source": [
    "#Understanding popular purchase quantities per category."
   ]
  },
  {
   "cell_type": "code",
   "execution_count": 16,
   "id": "aaff6fab",
   "metadata": {},
   "outputs": [
    {
     "data": {
      "text/plain": [
       "Category                Quantity\n",
       "Beauty & Personal Care  4           426\n",
       "                        1           400\n",
       "                        2           396\n",
       "                        3           382\n",
       "Books                   1           398\n",
       "                        4           397\n",
       "                        3           393\n",
       "                        2           382\n",
       "Electronics             2           411\n",
       "                        4           411\n",
       "                        3           392\n",
       "                        1           379\n",
       "Fashion                 4           420\n",
       "                        1           403\n",
       "                        2           393\n",
       "                        3           373\n",
       "Home & Kitchen          4           419\n",
       "                        2           399\n",
       "                        1           387\n",
       "                        3           382\n",
       "Sports & Fitness        4           418\n",
       "                        1           388\n",
       "                        3           380\n",
       "                        2           371\n",
       "Name: count, dtype: int64"
      ]
     },
     "execution_count": 16,
     "metadata": {},
     "output_type": "execute_result"
    }
   ],
   "source": [
    "data.groupby([\"Category\"])[\"Quantity\"].value_counts()"
   ]
  },
  {
   "cell_type": "code",
   "execution_count": null,
   "id": "9a47806b",
   "metadata": {},
   "outputs": [
    {
     "data": {
      "text/plain": [
       "np.int64(426)"
      ]
     },
     "execution_count": 17,
     "metadata": {},
     "output_type": "execute_result"
    }
   ],
   "source": [
    "data.groupby([\"Category\"])[\"Quantity\"].value_counts().max()"
   ]
  },
  {
   "cell_type": "markdown",
   "id": "541be9a7",
   "metadata": {},
   "source": [
    "#compare the sales and profit accoding to city"
   ]
  },
  {
   "cell_type": "code",
   "execution_count": 18,
   "id": "c426c6a6",
   "metadata": {},
   "outputs": [
    {
     "data": {
      "text/html": [
       "<div>\n",
       "<style scoped>\n",
       "    .dataframe tbody tr th:only-of-type {\n",
       "        vertical-align: middle;\n",
       "    }\n",
       "\n",
       "    .dataframe tbody tr th {\n",
       "        vertical-align: top;\n",
       "    }\n",
       "\n",
       "    .dataframe thead th {\n",
       "        text-align: right;\n",
       "    }\n",
       "</style>\n",
       "<table border=\"1\" class=\"dataframe\">\n",
       "  <thead>\n",
       "    <tr style=\"text-align: right;\">\n",
       "      <th></th>\n",
       "      <th>Sales</th>\n",
       "      <th>Profit</th>\n",
       "    </tr>\n",
       "    <tr>\n",
       "      <th>City</th>\n",
       "      <th></th>\n",
       "      <th></th>\n",
       "    </tr>\n",
       "  </thead>\n",
       "  <tbody>\n",
       "    <tr>\n",
       "      <th>Hyderabad</th>\n",
       "      <td>15117576.56</td>\n",
       "      <td>498807.72</td>\n",
       "    </tr>\n",
       "    <tr>\n",
       "      <th>New Delhi</th>\n",
       "      <td>14177501.95</td>\n",
       "      <td>516105.03</td>\n",
       "    </tr>\n",
       "    <tr>\n",
       "      <th>Jaipur</th>\n",
       "      <td>7503701.96</td>\n",
       "      <td>282921.22</td>\n",
       "    </tr>\n",
       "    <tr>\n",
       "      <th>Kanpur</th>\n",
       "      <td>7446164.51</td>\n",
       "      <td>323488.31</td>\n",
       "    </tr>\n",
       "    <tr>\n",
       "      <th>Udaipur</th>\n",
       "      <td>7326955.05</td>\n",
       "      <td>308997.19</td>\n",
       "    </tr>\n",
       "    <tr>\n",
       "      <th>Indore</th>\n",
       "      <td>7201826.33</td>\n",
       "      <td>299915.40</td>\n",
       "    </tr>\n",
       "    <tr>\n",
       "      <th>Lucknow</th>\n",
       "      <td>7198938.89</td>\n",
       "      <td>266763.90</td>\n",
       "    </tr>\n",
       "    <tr>\n",
       "      <th>Ahmedabad</th>\n",
       "      <td>7029815.17</td>\n",
       "      <td>253620.78</td>\n",
       "    </tr>\n",
       "    <tr>\n",
       "      <th>Surat</th>\n",
       "      <td>6980132.62</td>\n",
       "      <td>262351.51</td>\n",
       "    </tr>\n",
       "    <tr>\n",
       "      <th>Kolkata</th>\n",
       "      <td>6943495.88</td>\n",
       "      <td>270657.20</td>\n",
       "    </tr>\n",
       "    <tr>\n",
       "      <th>Howrah</th>\n",
       "      <td>6806636.87</td>\n",
       "      <td>224457.67</td>\n",
       "    </tr>\n",
       "    <tr>\n",
       "      <th>Bhopal</th>\n",
       "      <td>6544880.36</td>\n",
       "      <td>245138.86</td>\n",
       "    </tr>\n",
       "    <tr>\n",
       "      <th>Pune</th>\n",
       "      <td>5407607.23</td>\n",
       "      <td>216288.35</td>\n",
       "    </tr>\n",
       "    <tr>\n",
       "      <th>Mysore</th>\n",
       "      <td>5206914.88</td>\n",
       "      <td>244750.48</td>\n",
       "    </tr>\n",
       "    <tr>\n",
       "      <th>Coimbatore</th>\n",
       "      <td>5185839.58</td>\n",
       "      <td>206979.43</td>\n",
       "    </tr>\n",
       "    <tr>\n",
       "      <th>Mumbai</th>\n",
       "      <td>5014310.87</td>\n",
       "      <td>172610.71</td>\n",
       "    </tr>\n",
       "    <tr>\n",
       "      <th>Madurai</th>\n",
       "      <td>4811936.10</td>\n",
       "      <td>194671.77</td>\n",
       "    </tr>\n",
       "    <tr>\n",
       "      <th>Chennai</th>\n",
       "      <td>4782718.91</td>\n",
       "      <td>212868.95</td>\n",
       "    </tr>\n",
       "    <tr>\n",
       "      <th>Hubli</th>\n",
       "      <td>4779498.72</td>\n",
       "      <td>173849.04</td>\n",
       "    </tr>\n",
       "    <tr>\n",
       "      <th>Nagpur</th>\n",
       "      <td>4568666.17</td>\n",
       "      <td>188148.95</td>\n",
       "    </tr>\n",
       "    <tr>\n",
       "      <th>Bangalore</th>\n",
       "      <td>4330293.62</td>\n",
       "      <td>164503.01</td>\n",
       "    </tr>\n",
       "  </tbody>\n",
       "</table>\n",
       "</div>"
      ],
      "text/plain": [
       "                  Sales     Profit\n",
       "City                              \n",
       "Hyderabad   15117576.56  498807.72\n",
       "New Delhi   14177501.95  516105.03\n",
       "Jaipur       7503701.96  282921.22\n",
       "Kanpur       7446164.51  323488.31\n",
       "Udaipur      7326955.05  308997.19\n",
       "Indore       7201826.33  299915.40\n",
       "Lucknow      7198938.89  266763.90\n",
       "Ahmedabad    7029815.17  253620.78\n",
       "Surat        6980132.62  262351.51\n",
       "Kolkata      6943495.88  270657.20\n",
       "Howrah       6806636.87  224457.67\n",
       "Bhopal       6544880.36  245138.86\n",
       "Pune         5407607.23  216288.35\n",
       "Mysore       5206914.88  244750.48\n",
       "Coimbatore   5185839.58  206979.43\n",
       "Mumbai       5014310.87  172610.71\n",
       "Madurai      4811936.10  194671.77\n",
       "Chennai      4782718.91  212868.95\n",
       "Hubli        4779498.72  173849.04\n",
       "Nagpur       4568666.17  188148.95\n",
       "Bangalore    4330293.62  164503.01"
      ]
     },
     "execution_count": 18,
     "metadata": {},
     "output_type": "execute_result"
    }
   ],
   "source": [
    "data.groupby(\"City\")[[\"Sales\",\"Profit\"]].sum().sort_values([\"Sales\"],ascending=False)"
   ]
  },
  {
   "cell_type": "markdown",
   "id": "c8233465",
   "metadata": {},
   "source": [
    "#to find monthly sales"
   ]
  },
  {
   "cell_type": "code",
   "execution_count": 19,
   "id": "1d0189cb",
   "metadata": {},
   "outputs": [],
   "source": [
    "#question 1\n",
    "data[\"Months\"]=data[\"Order Date\"].dt.month\n",
    "data[\"day_of_week\"] = data[\"Order Date\"].dt.dayofweek\n",
    "data[\"years\"]=data[\"Order Date\"].dt.year\n"
   ]
  },
  {
   "cell_type": "code",
   "execution_count": 20,
   "id": "d8718102",
   "metadata": {},
   "outputs": [
    {
     "data": {
      "text/html": [
       "<div>\n",
       "<style scoped>\n",
       "    .dataframe tbody tr th:only-of-type {\n",
       "        vertical-align: middle;\n",
       "    }\n",
       "\n",
       "    .dataframe tbody tr th {\n",
       "        vertical-align: top;\n",
       "    }\n",
       "\n",
       "    .dataframe thead th {\n",
       "        text-align: right;\n",
       "    }\n",
       "</style>\n",
       "<table border=\"1\" class=\"dataframe\">\n",
       "  <thead>\n",
       "    <tr style=\"text-align: right;\">\n",
       "      <th></th>\n",
       "      <th>Row ID</th>\n",
       "      <th>Order ID</th>\n",
       "      <th>Order Date</th>\n",
       "      <th>Ship Date</th>\n",
       "      <th>Ship Mode</th>\n",
       "      <th>Customer ID</th>\n",
       "      <th>Customer Name</th>\n",
       "      <th>Segment</th>\n",
       "      <th>Country</th>\n",
       "      <th>City</th>\n",
       "      <th>...</th>\n",
       "      <th>Category</th>\n",
       "      <th>Sub-Category</th>\n",
       "      <th>Product Name</th>\n",
       "      <th>Sales</th>\n",
       "      <th>Quantity</th>\n",
       "      <th>Discount</th>\n",
       "      <th>Profit</th>\n",
       "      <th>Months</th>\n",
       "      <th>day_of_week</th>\n",
       "      <th>years</th>\n",
       "    </tr>\n",
       "  </thead>\n",
       "  <tbody>\n",
       "    <tr>\n",
       "      <th>0</th>\n",
       "      <td>1</td>\n",
       "      <td>ORD-2021001</td>\n",
       "      <td>2022-07-19</td>\n",
       "      <td>2022-07-24</td>\n",
       "      <td>First Class</td>\n",
       "      <td>CUST-1001</td>\n",
       "      <td>Aarush Chander</td>\n",
       "      <td>Regular Buyer</td>\n",
       "      <td>India</td>\n",
       "      <td>Coimbatore</td>\n",
       "      <td>...</td>\n",
       "      <td>Electronics</td>\n",
       "      <td>Smartphone</td>\n",
       "      <td>Smartphone - Mi</td>\n",
       "      <td>5830.65</td>\n",
       "      <td>2</td>\n",
       "      <td>0.2</td>\n",
       "      <td>-230.66</td>\n",
       "      <td>7</td>\n",
       "      <td>1</td>\n",
       "      <td>2022</td>\n",
       "    </tr>\n",
       "    <tr>\n",
       "      <th>1</th>\n",
       "      <td>2</td>\n",
       "      <td>ORD-2021002</td>\n",
       "      <td>2021-01-29</td>\n",
       "      <td>2021-01-31</td>\n",
       "      <td>First Class</td>\n",
       "      <td>CUST-1002</td>\n",
       "      <td>Pihu Chaudhari</td>\n",
       "      <td>Prime Member</td>\n",
       "      <td>India</td>\n",
       "      <td>Howrah</td>\n",
       "      <td>...</td>\n",
       "      <td>Electronics</td>\n",
       "      <td>Earphones</td>\n",
       "      <td>Earphones - OnePlus</td>\n",
       "      <td>25185.19</td>\n",
       "      <td>4</td>\n",
       "      <td>0.2</td>\n",
       "      <td>1000.67</td>\n",
       "      <td>1</td>\n",
       "      <td>4</td>\n",
       "      <td>2021</td>\n",
       "    </tr>\n",
       "    <tr>\n",
       "      <th>2</th>\n",
       "      <td>3</td>\n",
       "      <td>ORD-2021003</td>\n",
       "      <td>2022-07-19</td>\n",
       "      <td>2022-07-23</td>\n",
       "      <td>First Class</td>\n",
       "      <td>CUST-1003</td>\n",
       "      <td>Emir Balakrishnan</td>\n",
       "      <td>Bulk Buyer</td>\n",
       "      <td>India</td>\n",
       "      <td>Chennai</td>\n",
       "      <td>...</td>\n",
       "      <td>Beauty &amp; Personal Care</td>\n",
       "      <td>Lipstick</td>\n",
       "      <td>Lipstick - Mamaearth</td>\n",
       "      <td>24316.53</td>\n",
       "      <td>2</td>\n",
       "      <td>0.2</td>\n",
       "      <td>4830.83</td>\n",
       "      <td>7</td>\n",
       "      <td>1</td>\n",
       "      <td>2022</td>\n",
       "    </tr>\n",
       "    <tr>\n",
       "      <th>3</th>\n",
       "      <td>4</td>\n",
       "      <td>ORD-2021004</td>\n",
       "      <td>2022-09-11</td>\n",
       "      <td>2022-09-16</td>\n",
       "      <td>Standard Class</td>\n",
       "      <td>CUST-1004</td>\n",
       "      <td>Priyansh Vasa</td>\n",
       "      <td>Bulk Buyer</td>\n",
       "      <td>India</td>\n",
       "      <td>Bhopal</td>\n",
       "      <td>...</td>\n",
       "      <td>Sports &amp; Fitness</td>\n",
       "      <td>Cricket Bat</td>\n",
       "      <td>Cricket Bat - SG</td>\n",
       "      <td>9248.73</td>\n",
       "      <td>2</td>\n",
       "      <td>0.0</td>\n",
       "      <td>642.91</td>\n",
       "      <td>9</td>\n",
       "      <td>6</td>\n",
       "      <td>2022</td>\n",
       "    </tr>\n",
       "    <tr>\n",
       "      <th>4</th>\n",
       "      <td>5</td>\n",
       "      <td>ORD-2021005</td>\n",
       "      <td>2021-07-23</td>\n",
       "      <td>2021-07-29</td>\n",
       "      <td>Second Class</td>\n",
       "      <td>CUST-1005</td>\n",
       "      <td>Jayesh Chakraborty</td>\n",
       "      <td>Bulk Buyer</td>\n",
       "      <td>India</td>\n",
       "      <td>Kanpur</td>\n",
       "      <td>...</td>\n",
       "      <td>Electronics</td>\n",
       "      <td>Smartwatch</td>\n",
       "      <td>Smartwatch - OnePlus</td>\n",
       "      <td>14365.07</td>\n",
       "      <td>3</td>\n",
       "      <td>0.2</td>\n",
       "      <td>754.51</td>\n",
       "      <td>7</td>\n",
       "      <td>4</td>\n",
       "      <td>2021</td>\n",
       "    </tr>\n",
       "    <tr>\n",
       "      <th>...</th>\n",
       "      <td>...</td>\n",
       "      <td>...</td>\n",
       "      <td>...</td>\n",
       "      <td>...</td>\n",
       "      <td>...</td>\n",
       "      <td>...</td>\n",
       "      <td>...</td>\n",
       "      <td>...</td>\n",
       "      <td>...</td>\n",
       "      <td>...</td>\n",
       "      <td>...</td>\n",
       "      <td>...</td>\n",
       "      <td>...</td>\n",
       "      <td>...</td>\n",
       "      <td>...</td>\n",
       "      <td>...</td>\n",
       "      <td>...</td>\n",
       "      <td>...</td>\n",
       "      <td>...</td>\n",
       "      <td>...</td>\n",
       "      <td>...</td>\n",
       "    </tr>\n",
       "    <tr>\n",
       "      <th>9495</th>\n",
       "      <td>9496</td>\n",
       "      <td>ORD-2030496</td>\n",
       "      <td>2021-02-22</td>\n",
       "      <td>2021-02-25</td>\n",
       "      <td>Standard Class</td>\n",
       "      <td>CUST-10496</td>\n",
       "      <td>Romil Bava</td>\n",
       "      <td>Regular Buyer</td>\n",
       "      <td>India</td>\n",
       "      <td>Pune</td>\n",
       "      <td>...</td>\n",
       "      <td>Books</td>\n",
       "      <td>Exam Preparation</td>\n",
       "      <td>Exam Preparation - Scholastic India</td>\n",
       "      <td>12563.94</td>\n",
       "      <td>2</td>\n",
       "      <td>0.2</td>\n",
       "      <td>-242.37</td>\n",
       "      <td>2</td>\n",
       "      <td>0</td>\n",
       "      <td>2021</td>\n",
       "    </tr>\n",
       "    <tr>\n",
       "      <th>9496</th>\n",
       "      <td>9497</td>\n",
       "      <td>ORD-2030497</td>\n",
       "      <td>2021-07-13</td>\n",
       "      <td>2021-07-14</td>\n",
       "      <td>First Class</td>\n",
       "      <td>CUST-10497</td>\n",
       "      <td>Divit Sethi</td>\n",
       "      <td>Regular Buyer</td>\n",
       "      <td>India</td>\n",
       "      <td>Howrah</td>\n",
       "      <td>...</td>\n",
       "      <td>Home &amp; Kitchen</td>\n",
       "      <td>Storage Box</td>\n",
       "      <td>Storage Box - Prestige</td>\n",
       "      <td>11115.67</td>\n",
       "      <td>2</td>\n",
       "      <td>0.0</td>\n",
       "      <td>1497.74</td>\n",
       "      <td>7</td>\n",
       "      <td>1</td>\n",
       "      <td>2021</td>\n",
       "    </tr>\n",
       "    <tr>\n",
       "      <th>9497</th>\n",
       "      <td>9498</td>\n",
       "      <td>ORD-2030498</td>\n",
       "      <td>2021-08-16</td>\n",
       "      <td>2021-08-19</td>\n",
       "      <td>First Class</td>\n",
       "      <td>CUST-10498</td>\n",
       "      <td>Mishti Sahni</td>\n",
       "      <td>Regular Buyer</td>\n",
       "      <td>India</td>\n",
       "      <td>Ahmedabad</td>\n",
       "      <td>...</td>\n",
       "      <td>Beauty &amp; Personal Care</td>\n",
       "      <td>Moisturizer</td>\n",
       "      <td>Moisturizer - Himalaya</td>\n",
       "      <td>29428.87</td>\n",
       "      <td>4</td>\n",
       "      <td>0.2</td>\n",
       "      <td>-583.71</td>\n",
       "      <td>8</td>\n",
       "      <td>0</td>\n",
       "      <td>2021</td>\n",
       "    </tr>\n",
       "    <tr>\n",
       "      <th>9498</th>\n",
       "      <td>9499</td>\n",
       "      <td>ORD-2030499</td>\n",
       "      <td>2021-03-18</td>\n",
       "      <td>2021-03-24</td>\n",
       "      <td>Standard Class</td>\n",
       "      <td>CUST-10499</td>\n",
       "      <td>Neysa Deshmukh</td>\n",
       "      <td>Regular Buyer</td>\n",
       "      <td>India</td>\n",
       "      <td>Mumbai</td>\n",
       "      <td>...</td>\n",
       "      <td>Sports &amp; Fitness</td>\n",
       "      <td>Football</td>\n",
       "      <td>Football - SS</td>\n",
       "      <td>18077.79</td>\n",
       "      <td>4</td>\n",
       "      <td>0.0</td>\n",
       "      <td>2697.46</td>\n",
       "      <td>3</td>\n",
       "      <td>3</td>\n",
       "      <td>2021</td>\n",
       "    </tr>\n",
       "    <tr>\n",
       "      <th>9499</th>\n",
       "      <td>9500</td>\n",
       "      <td>ORD-2030500</td>\n",
       "      <td>2021-03-15</td>\n",
       "      <td>2021-03-20</td>\n",
       "      <td>Second Class</td>\n",
       "      <td>CUST-10500</td>\n",
       "      <td>Zain Bakshi</td>\n",
       "      <td>Prime Member</td>\n",
       "      <td>India</td>\n",
       "      <td>Hyderabad</td>\n",
       "      <td>...</td>\n",
       "      <td>Books</td>\n",
       "      <td>Children</td>\n",
       "      <td>Children - Rupa Publications</td>\n",
       "      <td>5758.01</td>\n",
       "      <td>4</td>\n",
       "      <td>0.2</td>\n",
       "      <td>488.73</td>\n",
       "      <td>3</td>\n",
       "      <td>0</td>\n",
       "      <td>2021</td>\n",
       "    </tr>\n",
       "  </tbody>\n",
       "</table>\n",
       "<p>9500 rows × 24 columns</p>\n",
       "</div>"
      ],
      "text/plain": [
       "      Row ID     Order ID Order Date  Ship Date       Ship Mode Customer ID  \\\n",
       "0          1  ORD-2021001 2022-07-19 2022-07-24     First Class   CUST-1001   \n",
       "1          2  ORD-2021002 2021-01-29 2021-01-31     First Class   CUST-1002   \n",
       "2          3  ORD-2021003 2022-07-19 2022-07-23     First Class   CUST-1003   \n",
       "3          4  ORD-2021004 2022-09-11 2022-09-16  Standard Class   CUST-1004   \n",
       "4          5  ORD-2021005 2021-07-23 2021-07-29    Second Class   CUST-1005   \n",
       "...      ...          ...        ...        ...             ...         ...   \n",
       "9495    9496  ORD-2030496 2021-02-22 2021-02-25  Standard Class  CUST-10496   \n",
       "9496    9497  ORD-2030497 2021-07-13 2021-07-14     First Class  CUST-10497   \n",
       "9497    9498  ORD-2030498 2021-08-16 2021-08-19     First Class  CUST-10498   \n",
       "9498    9499  ORD-2030499 2021-03-18 2021-03-24  Standard Class  CUST-10499   \n",
       "9499    9500  ORD-2030500 2021-03-15 2021-03-20    Second Class  CUST-10500   \n",
       "\n",
       "           Customer Name        Segment Country        City  ...  \\\n",
       "0         Aarush Chander  Regular Buyer   India  Coimbatore  ...   \n",
       "1         Pihu Chaudhari   Prime Member   India      Howrah  ...   \n",
       "2      Emir Balakrishnan     Bulk Buyer   India     Chennai  ...   \n",
       "3          Priyansh Vasa     Bulk Buyer   India      Bhopal  ...   \n",
       "4     Jayesh Chakraborty     Bulk Buyer   India      Kanpur  ...   \n",
       "...                  ...            ...     ...         ...  ...   \n",
       "9495          Romil Bava  Regular Buyer   India        Pune  ...   \n",
       "9496         Divit Sethi  Regular Buyer   India      Howrah  ...   \n",
       "9497        Mishti Sahni  Regular Buyer   India   Ahmedabad  ...   \n",
       "9498      Neysa Deshmukh  Regular Buyer   India      Mumbai  ...   \n",
       "9499         Zain Bakshi   Prime Member   India   Hyderabad  ...   \n",
       "\n",
       "                    Category      Sub-Category  \\\n",
       "0                Electronics        Smartphone   \n",
       "1                Electronics         Earphones   \n",
       "2     Beauty & Personal Care          Lipstick   \n",
       "3           Sports & Fitness       Cricket Bat   \n",
       "4                Electronics        Smartwatch   \n",
       "...                      ...               ...   \n",
       "9495                   Books  Exam Preparation   \n",
       "9496          Home & Kitchen       Storage Box   \n",
       "9497  Beauty & Personal Care       Moisturizer   \n",
       "9498        Sports & Fitness          Football   \n",
       "9499                   Books          Children   \n",
       "\n",
       "                             Product Name     Sales Quantity Discount  \\\n",
       "0                         Smartphone - Mi   5830.65        2      0.2   \n",
       "1                     Earphones - OnePlus  25185.19        4      0.2   \n",
       "2                    Lipstick - Mamaearth  24316.53        2      0.2   \n",
       "3                        Cricket Bat - SG   9248.73        2      0.0   \n",
       "4                    Smartwatch - OnePlus  14365.07        3      0.2   \n",
       "...                                   ...       ...      ...      ...   \n",
       "9495  Exam Preparation - Scholastic India  12563.94        2      0.2   \n",
       "9496               Storage Box - Prestige  11115.67        2      0.0   \n",
       "9497               Moisturizer - Himalaya  29428.87        4      0.2   \n",
       "9498                        Football - SS  18077.79        4      0.0   \n",
       "9499         Children - Rupa Publications   5758.01        4      0.2   \n",
       "\n",
       "       Profit  Months  day_of_week  years  \n",
       "0     -230.66       7            1   2022  \n",
       "1     1000.67       1            4   2021  \n",
       "2     4830.83       7            1   2022  \n",
       "3      642.91       9            6   2022  \n",
       "4      754.51       7            4   2021  \n",
       "...       ...     ...          ...    ...  \n",
       "9495  -242.37       2            0   2021  \n",
       "9496  1497.74       7            1   2021  \n",
       "9497  -583.71       8            0   2021  \n",
       "9498  2697.46       3            3   2021  \n",
       "9499   488.73       3            0   2021  \n",
       "\n",
       "[9500 rows x 24 columns]"
      ]
     },
     "execution_count": 20,
     "metadata": {},
     "output_type": "execute_result"
    }
   ],
   "source": [
    "data"
   ]
  },
  {
   "cell_type": "code",
   "execution_count": 31,
   "id": "6c84bfbf",
   "metadata": {},
   "outputs": [
    {
     "name": "stdout",
     "output_type": "stream",
     "text": [
      "Months\n",
      "1     14634376.73\n",
      "2     13090243.31\n",
      "3     15140425.62\n",
      "4     14495834.64\n",
      "5     15095635.21\n",
      "6     12236150.98\n",
      "7      9746548.36\n",
      "8     10524629.47\n",
      "9      9265305.45\n",
      "10    10173888.07\n",
      "11     8975522.40\n",
      "12    10986851.99\n",
      "Name: Sales, dtype: float64\n"
     ]
    }
   ],
   "source": [
    "monthly_sales = data.groupby(\"Months\")[\"Sales\"].sum()\n",
    "print(monthly_sales)"
   ]
  },
  {
   "cell_type": "markdown",
   "id": "16b51835",
   "metadata": {},
   "source": [
    "#sales analysis on the base of sub-category"
   ]
  },
  {
   "cell_type": "code",
   "execution_count": null,
   "id": "4f6d8d95",
   "metadata": {},
   "outputs": [
    {
     "data": {
      "text/plain": [
       "Sub-Category\n",
       "Bedsheet            5065418.45\n",
       "Biography           4764614.61\n",
       "Children            4600419.48\n",
       "Comics              5041771.10\n",
       "Cookware Set        4868906.10\n",
       "Cricket Bat         4574387.11\n",
       "Curtains            5024838.45\n",
       "Dumbbells           5304594.01\n",
       "Earphones           5109450.58\n",
       "Exam Preparation    4799980.84\n",
       "Face Wash           5213046.00\n",
       "Fiction             4621459.49\n",
       "Football            4610049.12\n",
       "Jeans               4748569.77\n",
       "Kurtis              5155361.42\n",
       "Laptop              4716148.76\n",
       "Lipstick            4716810.01\n",
       "Mixer Grinder       5126359.61\n",
       "Moisturizer         4583846.56\n",
       "Perfume             5084871.43\n",
       "Power Bank          4886740.32\n",
       "Saree               4753202.42\n",
       "Shampoo             4728347.85\n",
       "Shoes               4956205.60\n",
       "Smartphone          4723513.51\n",
       "Smartwatch          4933626.71\n",
       "Storage Box         4519949.99\n",
       "T-Shirt             4285008.52\n",
       "Tennis Racquet      4450752.53\n",
       "Yoga Mat            4397161.88\n",
       "Name: Sales, dtype: float64"
      ]
     },
     "execution_count": 22,
     "metadata": {},
     "output_type": "execute_result"
    }
   ],
   "source": [
    "#Question 3\n",
    "Sales_by_subcategory=data.groupby(\"Sub-Category\")[\"Sales\"].sum()\n",
    "Sales_by_subcategory"
   ]
  },
  {
   "cell_type": "markdown",
   "id": "046e5664",
   "metadata": {},
   "source": [
    "#to find Monthly profit of sales"
   ]
  },
  {
   "cell_type": "code",
   "execution_count": null,
   "id": "60c3f69c",
   "metadata": {},
   "outputs": [
    {
     "name": "stdout",
     "output_type": "stream",
     "text": [
      "Months\n",
      "1     586100.84\n",
      "2     497607.54\n",
      "3     554644.29\n",
      "4     481004.06\n",
      "5     578634.87\n",
      "6     500931.42\n",
      "7     393134.69\n",
      "8     395124.15\n",
      "9     370964.07\n",
      "10    391923.10\n",
      "11    331962.44\n",
      "12    445864.01\n",
      "Name: Profit, dtype: float64\n"
     ]
    }
   ],
   "source": [
    "#question4\n",
    "data[\"monthly_profit\"] = data.groupby(\"Months\")[\"Profit\"].sum()\n",
    "print(monthly_profit)"
   ]
  },
  {
   "cell_type": "markdown",
   "id": "38a97c07",
   "metadata": {},
   "source": [
    "#analyze profit and sales by coustomer segment"
   ]
  },
  {
   "cell_type": "code",
   "execution_count": null,
   "id": "1ad6a32c",
   "metadata": {},
   "outputs": [
    {
     "data": {
      "text/plain": [
       "Segment\n",
       "Bulk Buyer       49036198.84\n",
       "Prime Member     47773943.25\n",
       "Regular Buyer    47555270.14\n",
       "Name: Sales, dtype: float64"
      ]
     },
     "execution_count": 24,
     "metadata": {},
     "output_type": "execute_result"
    }
   ],
   "source": [
    "#question 6\n",
    "Sale_by_segment=data.groupby(\"Segment\")[\"Sales\"].sum()\n",
    "Sale_by_segment"
   ]
  },
  {
   "cell_type": "code",
   "execution_count": null,
   "id": "1643df63",
   "metadata": {},
   "outputs": [
    {
     "data": {
      "text/plain": [
       "Segment\n",
       "Bulk Buyer       1951077.20\n",
       "Prime Member     1786206.00\n",
       "Regular Buyer    1790612.28\n",
       "Name: Profit, dtype: float64"
      ]
     },
     "execution_count": 43,
     "metadata": {},
     "output_type": "execute_result"
    }
   ],
   "source": [
    "Profit_by_segment=data.groupby(\"Segment\")[\"Profit\"].sum()\n",
    "Profit_by_segment"
   ]
  },
  {
   "cell_type": "code",
   "execution_count": null,
   "id": "3e443c1c",
   "metadata": {},
   "outputs": [
    {
     "name": "stdout",
     "output_type": "stream",
     "text": [
      "         Segment  Sales_to_Profit_Ratio\n",
      "0     Bulk Buyer              25.132885\n",
      "1   Prime Member              26.746043\n",
      "2  Regular Buyer              26.558106\n"
     ]
    }
   ],
   "source": [
    "# Group by Segment and calculate total Sales and Profit\n",
    "sales_profit_by_segment = data.groupby('Segment').agg({'Sales': 'sum', 'Profit': 'sum'}).reset_index()\n",
    "\n",
    "# Calculate Sales to Profit Ratio\n",
    "sales_profit_by_segment['Sales_to_Profit_Ratio'] = sales_profit_by_segment['Sales'] / sales_profit_by_segment['Profit']\n",
    "\n",
    "# View the result\n",
    "print(sales_profit_by_segment[['Segment', 'Sales_to_Profit_Ratio']])\n"
   ]
  },
  {
   "cell_type": "markdown",
   "id": "5e39649c",
   "metadata": {},
   "source": [
    "#find profit ratio"
   ]
  },
  {
   "cell_type": "code",
   "execution_count": null,
   "id": "54782bd3",
   "metadata": {},
   "outputs": [
    {
     "data": {
      "text/plain": [
       "0       -3.955991\n",
       "1        3.973248\n",
       "2       19.866445\n",
       "3        6.951333\n",
       "4        5.252393\n",
       "          ...    \n",
       "9495    -1.929092\n",
       "9496    13.474132\n",
       "9497    -1.983460\n",
       "9498    14.921404\n",
       "9499     8.487828\n",
       "Name: Profit_Ratio, Length: 9500, dtype: float64"
      ]
     },
     "execution_count": 26,
     "metadata": {},
     "output_type": "execute_result"
    }
   ],
   "source": [
    "data[\"Profit_Ratio\"] = (data[\"Profit\"] / data[\"Sales\"]) * 100\n",
    "data[\"Profit_Ratio\"] "
   ]
  },
  {
   "cell_type": "markdown",
   "id": "74a80008",
   "metadata": {},
   "source": [
    "#find profit ration on based of segment"
   ]
  },
  {
   "cell_type": "code",
   "execution_count": null,
   "id": "bf330bdc",
   "metadata": {},
   "outputs": [
    {
     "data": {
      "text/plain": [
       "Profit_Ratio\n",
       "-18.640381    Regular Buyer\n",
       "-18.625978    Regular Buyer\n",
       "-17.001948       Bulk Buyer\n",
       "-16.890843    Regular Buyer\n",
       "-16.763892    Regular Buyer\n",
       "                  ...      \n",
       " 24.151866    Regular Buyer\n",
       " 24.203104       Bulk Buyer\n",
       " 24.239822    Regular Buyer\n",
       " 24.452452     Prime Member\n",
       " 24.648391    Regular Buyer\n",
       "Name: Segment, Length: 9500, dtype: object"
      ]
     },
     "execution_count": 27,
     "metadata": {},
     "output_type": "execute_result"
    }
   ],
   "source": [
    "Sale_by_profitratio=data.groupby(\"Profit_Ratio\")[\"Segment\"].sum()\n",
    "Sale_by_profitratio"
   ]
  },
  {
   "cell_type": "markdown",
   "id": "e5e1620b",
   "metadata": {},
   "source": [
    "#compare sales and profit by customer segment"
   ]
  },
  {
   "cell_type": "code",
   "execution_count": null,
   "id": "7e9d18d2",
   "metadata": {},
   "outputs": [
    {
     "data": {
      "text/html": [
       "<div>\n",
       "<style scoped>\n",
       "    .dataframe tbody tr th:only-of-type {\n",
       "        vertical-align: middle;\n",
       "    }\n",
       "\n",
       "    .dataframe tbody tr th {\n",
       "        vertical-align: top;\n",
       "    }\n",
       "\n",
       "    .dataframe thead th {\n",
       "        text-align: right;\n",
       "    }\n",
       "</style>\n",
       "<table border=\"1\" class=\"dataframe\">\n",
       "  <thead>\n",
       "    <tr style=\"text-align: right;\">\n",
       "      <th></th>\n",
       "      <th>Sales</th>\n",
       "      <th>Profit</th>\n",
       "    </tr>\n",
       "    <tr>\n",
       "      <th>Segment</th>\n",
       "      <th></th>\n",
       "      <th></th>\n",
       "    </tr>\n",
       "  </thead>\n",
       "  <tbody>\n",
       "    <tr>\n",
       "      <th>Bulk Buyer</th>\n",
       "      <td>49036198.84</td>\n",
       "      <td>1951077.20</td>\n",
       "    </tr>\n",
       "    <tr>\n",
       "      <th>Prime Member</th>\n",
       "      <td>47773943.25</td>\n",
       "      <td>1786206.00</td>\n",
       "    </tr>\n",
       "    <tr>\n",
       "      <th>Regular Buyer</th>\n",
       "      <td>47555270.14</td>\n",
       "      <td>1790612.28</td>\n",
       "    </tr>\n",
       "  </tbody>\n",
       "</table>\n",
       "</div>"
      ],
      "text/plain": [
       "                     Sales      Profit\n",
       "Segment                               \n",
       "Bulk Buyer     49036198.84  1951077.20\n",
       "Prime Member   47773943.25  1786206.00\n",
       "Regular Buyer  47555270.14  1790612.28"
      ]
     },
     "execution_count": 28,
     "metadata": {},
     "output_type": "execute_result"
    }
   ],
   "source": [
    "data.groupby(\"Segment\")[[\"Sales\",\"Profit\"]].sum().sort_values([\"Sales\"],ascending=False)"
   ]
  },
  {
   "cell_type": "markdown",
   "id": "930a638e",
   "metadata": {},
   "source": [
    "#compare monthly sales and monthly profit"
   ]
  },
  {
   "cell_type": "code",
   "execution_count": null,
   "id": "6812cf59",
   "metadata": {},
   "outputs": [
    {
     "data": {
      "text/plain": [
       "monthly_sales\n",
       "8975522.40     331962.44\n",
       "9265305.45     370964.07\n",
       "9746548.36     393134.69\n",
       "10173888.07    391923.10\n",
       "10524629.47    395124.15\n",
       "10986851.99    445864.01\n",
       "12236150.98    500931.42\n",
       "13090243.31    497607.54\n",
       "14495834.64    481004.06\n",
       "14634376.73    586100.84\n",
       "15095635.21    578634.87\n",
       "15140425.62    554644.29\n",
       "Name: monthly_profit, dtype: float64"
      ]
     },
     "execution_count": 41,
     "metadata": {},
     "output_type": "execute_result"
    }
   ],
   "source": [
    "data.groupby(\"monthly_sales\")[\"monthly_profit\"].sum()"
   ]
  },
  {
   "cell_type": "code",
   "execution_count": null,
   "id": "7167499f",
   "metadata": {},
   "outputs": [
    {
     "name": "stdout",
     "output_type": "stream",
     "text": [
      "['Row ID', 'Order ID', 'Order Date', 'Ship Date', 'Ship Mode', 'Customer ID', 'Customer Name', 'Segment', 'Country', 'City', 'State', 'Postal Code', 'Region', 'Product ID', 'Category', 'Sub-Category', 'Product Name', 'Sales', 'Quantity', 'Discount', 'Profit', 'Months', 'day_of_week', 'years', 'Profit_Ratio', 'monthly_profit', 'monthly_sales']\n"
     ]
    }
   ],
   "source": [
    "print(data.columns.tolist())"
   ]
  },
  {
   "cell_type": "markdown",
   "id": "70e7a88b",
   "metadata": {},
   "source": [
    "#compare sales and profit on the based of sub-category"
   ]
  },
  {
   "cell_type": "code",
   "execution_count": null,
   "id": "6c8086e2",
   "metadata": {},
   "outputs": [
    {
     "data": {
      "text/html": [
       "<div>\n",
       "<style scoped>\n",
       "    .dataframe tbody tr th:only-of-type {\n",
       "        vertical-align: middle;\n",
       "    }\n",
       "\n",
       "    .dataframe tbody tr th {\n",
       "        vertical-align: top;\n",
       "    }\n",
       "\n",
       "    .dataframe thead th {\n",
       "        text-align: right;\n",
       "    }\n",
       "</style>\n",
       "<table border=\"1\" class=\"dataframe\">\n",
       "  <thead>\n",
       "    <tr style=\"text-align: right;\">\n",
       "      <th></th>\n",
       "      <th>Sales</th>\n",
       "      <th>Profit</th>\n",
       "    </tr>\n",
       "    <tr>\n",
       "      <th>Sub-Category</th>\n",
       "      <th></th>\n",
       "      <th></th>\n",
       "    </tr>\n",
       "  </thead>\n",
       "  <tbody>\n",
       "    <tr>\n",
       "      <th>Dumbbells</th>\n",
       "      <td>5304594.01</td>\n",
       "      <td>718714.73</td>\n",
       "    </tr>\n",
       "    <tr>\n",
       "      <th>Face Wash</th>\n",
       "      <td>5213046.00</td>\n",
       "      <td>717066.72</td>\n",
       "    </tr>\n",
       "    <tr>\n",
       "      <th>Kurtis</th>\n",
       "      <td>5155361.42</td>\n",
       "      <td>715545.74</td>\n",
       "    </tr>\n",
       "    <tr>\n",
       "      <th>Mixer Grinder</th>\n",
       "      <td>5126359.61</td>\n",
       "      <td>680028.13</td>\n",
       "    </tr>\n",
       "    <tr>\n",
       "      <th>Earphones</th>\n",
       "      <td>5109450.58</td>\n",
       "      <td>672611.35</td>\n",
       "    </tr>\n",
       "    <tr>\n",
       "      <th>Perfume</th>\n",
       "      <td>5084871.43</td>\n",
       "      <td>699510.23</td>\n",
       "    </tr>\n",
       "    <tr>\n",
       "      <th>Bedsheet</th>\n",
       "      <td>5065418.45</td>\n",
       "      <td>717505.82</td>\n",
       "    </tr>\n",
       "    <tr>\n",
       "      <th>Comics</th>\n",
       "      <td>5041771.10</td>\n",
       "      <td>694235.97</td>\n",
       "    </tr>\n",
       "    <tr>\n",
       "      <th>Curtains</th>\n",
       "      <td>5024838.45</td>\n",
       "      <td>690329.09</td>\n",
       "    </tr>\n",
       "    <tr>\n",
       "      <th>Shoes</th>\n",
       "      <td>4956205.60</td>\n",
       "      <td>657238.82</td>\n",
       "    </tr>\n",
       "    <tr>\n",
       "      <th>Smartwatch</th>\n",
       "      <td>4933626.71</td>\n",
       "      <td>663262.90</td>\n",
       "    </tr>\n",
       "    <tr>\n",
       "      <th>Power Bank</th>\n",
       "      <td>4886740.32</td>\n",
       "      <td>673251.72</td>\n",
       "    </tr>\n",
       "    <tr>\n",
       "      <th>Cookware Set</th>\n",
       "      <td>4868906.10</td>\n",
       "      <td>671215.39</td>\n",
       "    </tr>\n",
       "    <tr>\n",
       "      <th>Exam Preparation</th>\n",
       "      <td>4799980.84</td>\n",
       "      <td>646496.22</td>\n",
       "    </tr>\n",
       "    <tr>\n",
       "      <th>Biography</th>\n",
       "      <td>4764614.61</td>\n",
       "      <td>618975.54</td>\n",
       "    </tr>\n",
       "    <tr>\n",
       "      <th>Saree</th>\n",
       "      <td>4753202.42</td>\n",
       "      <td>659778.94</td>\n",
       "    </tr>\n",
       "    <tr>\n",
       "      <th>Jeans</th>\n",
       "      <td>4748569.77</td>\n",
       "      <td>638772.53</td>\n",
       "    </tr>\n",
       "    <tr>\n",
       "      <th>Shampoo</th>\n",
       "      <td>4728347.85</td>\n",
       "      <td>654489.43</td>\n",
       "    </tr>\n",
       "    <tr>\n",
       "      <th>Smartphone</th>\n",
       "      <td>4723513.51</td>\n",
       "      <td>681578.99</td>\n",
       "    </tr>\n",
       "    <tr>\n",
       "      <th>Lipstick</th>\n",
       "      <td>4716810.01</td>\n",
       "      <td>600014.63</td>\n",
       "    </tr>\n",
       "    <tr>\n",
       "      <th>Laptop</th>\n",
       "      <td>4716148.76</td>\n",
       "      <td>651934.95</td>\n",
       "    </tr>\n",
       "    <tr>\n",
       "      <th>Fiction</th>\n",
       "      <td>4621459.49</td>\n",
       "      <td>622883.13</td>\n",
       "    </tr>\n",
       "    <tr>\n",
       "      <th>Football</th>\n",
       "      <td>4610049.12</td>\n",
       "      <td>664181.89</td>\n",
       "    </tr>\n",
       "    <tr>\n",
       "      <th>Children</th>\n",
       "      <td>4600419.48</td>\n",
       "      <td>633800.01</td>\n",
       "    </tr>\n",
       "    <tr>\n",
       "      <th>Moisturizer</th>\n",
       "      <td>4583846.56</td>\n",
       "      <td>644459.51</td>\n",
       "    </tr>\n",
       "    <tr>\n",
       "      <th>Cricket Bat</th>\n",
       "      <td>4574387.11</td>\n",
       "      <td>622461.86</td>\n",
       "    </tr>\n",
       "    <tr>\n",
       "      <th>Storage Box</th>\n",
       "      <td>4519949.99</td>\n",
       "      <td>635939.77</td>\n",
       "    </tr>\n",
       "    <tr>\n",
       "      <th>Tennis Racquet</th>\n",
       "      <td>4450752.53</td>\n",
       "      <td>594995.85</td>\n",
       "    </tr>\n",
       "    <tr>\n",
       "      <th>Yoga Mat</th>\n",
       "      <td>4397161.88</td>\n",
       "      <td>599403.78</td>\n",
       "    </tr>\n",
       "    <tr>\n",
       "      <th>T-Shirt</th>\n",
       "      <td>4285008.52</td>\n",
       "      <td>578972.35</td>\n",
       "    </tr>\n",
       "  </tbody>\n",
       "</table>\n",
       "</div>"
      ],
      "text/plain": [
       "                       Sales     Profit\n",
       "Sub-Category                           \n",
       "Dumbbells         5304594.01  718714.73\n",
       "Face Wash         5213046.00  717066.72\n",
       "Kurtis            5155361.42  715545.74\n",
       "Mixer Grinder     5126359.61  680028.13\n",
       "Earphones         5109450.58  672611.35\n",
       "Perfume           5084871.43  699510.23\n",
       "Bedsheet          5065418.45  717505.82\n",
       "Comics            5041771.10  694235.97\n",
       "Curtains          5024838.45  690329.09\n",
       "Shoes             4956205.60  657238.82\n",
       "Smartwatch        4933626.71  663262.90\n",
       "Power Bank        4886740.32  673251.72\n",
       "Cookware Set      4868906.10  671215.39\n",
       "Exam Preparation  4799980.84  646496.22\n",
       "Biography         4764614.61  618975.54\n",
       "Saree             4753202.42  659778.94\n",
       "Jeans             4748569.77  638772.53\n",
       "Shampoo           4728347.85  654489.43\n",
       "Smartphone        4723513.51  681578.99\n",
       "Lipstick          4716810.01  600014.63\n",
       "Laptop            4716148.76  651934.95\n",
       "Fiction           4621459.49  622883.13\n",
       "Football          4610049.12  664181.89\n",
       "Children          4600419.48  633800.01\n",
       "Moisturizer       4583846.56  644459.51\n",
       "Cricket Bat       4574387.11  622461.86\n",
       "Storage Box       4519949.99  635939.77\n",
       "Tennis Racquet    4450752.53  594995.85\n",
       "Yoga Mat          4397161.88  599403.78\n",
       "T-Shirt           4285008.52  578972.35"
      ]
     },
     "execution_count": 77,
     "metadata": {},
     "output_type": "execute_result"
    }
   ],
   "source": [
    "data.groupby(\"Sub-Category\")[[\"Sales\",\"Profit\"]].sum().sort_values([\"Sales\"],ascending=False)"
   ]
  },
  {
   "cell_type": "markdown",
   "id": "9da684e1",
   "metadata": {},
   "source": [
    "#compare discount on based of city"
   ]
  },
  {
   "cell_type": "code",
   "execution_count": null,
   "id": "df5f4a4a",
   "metadata": {},
   "outputs": [
    {
     "data": {
      "text/plain": [
       "City\n",
       "Ahmedabad     40.75\n",
       "Bangalore     26.85\n",
       "Bhopal        37.70\n",
       "Chennai       26.65\n",
       "Coimbatore    28.95\n",
       "Howrah        43.05\n",
       "Hubli         28.40\n",
       "Hyderabad     87.00\n",
       "Indore        42.45\n",
       "Jaipur        44.75\n",
       "Kanpur        43.80\n",
       "Kolkata       39.55\n",
       "Lucknow       43.75\n",
       "Madurai       30.65\n",
       "Mumbai        30.80\n",
       "Mysore        27.70\n",
       "Nagpur        25.75\n",
       "New Delhi     84.10\n",
       "Pune          29.80\n",
       "Surat         38.90\n",
       "Udaipur       43.20\n",
       "Name: Discount, dtype: float64"
      ]
     },
     "execution_count": 78,
     "metadata": {},
     "output_type": "execute_result"
    }
   ],
   "source": [
    "data.groupby(\"City\")[\"Discount\"].sum()"
   ]
  },
  {
   "cell_type": "markdown",
   "id": "05902907",
   "metadata": {},
   "source": [
    "#find discount on based of category"
   ]
  },
  {
   "cell_type": "code",
   "execution_count": null,
   "id": "8675b066",
   "metadata": {},
   "outputs": [
    {
     "data": {
      "text/plain": [
       "Category\n",
       "Beauty & Personal Care    140.15\n",
       "Books                     142.55\n",
       "Electronics               140.00\n",
       "Fashion                   136.15\n",
       "Home & Kitchen            147.95\n",
       "Sports & Fitness          137.75\n",
       "Name: Discount, dtype: float64"
      ]
     },
     "execution_count": 79,
     "metadata": {},
     "output_type": "execute_result"
    }
   ],
   "source": [
    "data.groupby(\"Category\")[\"Discount\"].sum()"
   ]
  },
  {
   "cell_type": "markdown",
   "id": "ab3d7e04",
   "metadata": {},
   "source": [
    "#we find monthly discount"
   ]
  },
  {
   "cell_type": "code",
   "execution_count": null,
   "id": "b0938fde",
   "metadata": {},
   "outputs": [
    {
     "data": {
      "text/plain": [
       "Months\n",
       "1     87.50\n",
       "2     78.10\n",
       "3     88.95\n",
       "4     81.70\n",
       "5     91.00\n",
       "6     73.00\n",
       "7     60.80\n",
       "8     58.10\n",
       "9     53.00\n",
       "10    57.75\n",
       "11    52.00\n",
       "12    62.65\n",
       "Name: Discount, dtype: float64"
      ]
     },
     "execution_count": 80,
     "metadata": {},
     "output_type": "execute_result"
    }
   ],
   "source": [
    "data.groupby(\"Months\")[\"Discount\"].sum()"
   ]
  },
  {
   "cell_type": "markdown",
   "id": "969fc754",
   "metadata": {},
   "source": [
    "#Correlation of sales and profit"
   ]
  },
  {
   "cell_type": "code",
   "execution_count": null,
   "id": "411e739b",
   "metadata": {},
   "outputs": [
    {
     "data": {
      "text/html": [
       "<div>\n",
       "<style scoped>\n",
       "    .dataframe tbody tr th:only-of-type {\n",
       "        vertical-align: middle;\n",
       "    }\n",
       "\n",
       "    .dataframe tbody tr th {\n",
       "        vertical-align: top;\n",
       "    }\n",
       "\n",
       "    .dataframe thead th {\n",
       "        text-align: right;\n",
       "    }\n",
       "</style>\n",
       "<table border=\"1\" class=\"dataframe\">\n",
       "  <thead>\n",
       "    <tr style=\"text-align: right;\">\n",
       "      <th></th>\n",
       "      <th>Sales</th>\n",
       "      <th>Profit</th>\n",
       "    </tr>\n",
       "  </thead>\n",
       "  <tbody>\n",
       "    <tr>\n",
       "      <th>Sales</th>\n",
       "      <td>1.000000</td>\n",
       "      <td>0.775886</td>\n",
       "    </tr>\n",
       "    <tr>\n",
       "      <th>Profit</th>\n",
       "      <td>0.775886</td>\n",
       "      <td>1.000000</td>\n",
       "    </tr>\n",
       "  </tbody>\n",
       "</table>\n",
       "</div>"
      ],
      "text/plain": [
       "           Sales    Profit\n",
       "Sales   1.000000  0.775886\n",
       "Profit  0.775886  1.000000"
      ]
     },
     "execution_count": 46,
     "metadata": {},
     "output_type": "execute_result"
    }
   ],
   "source": [
    "data1=data[[\"Sales\",\"Profit\"]]\n",
    "data1.corr()"
   ]
  },
  {
   "cell_type": "markdown",
   "id": "910c712f",
   "metadata": {},
   "source": [
    "#Correlation Between Discount and Profit"
   ]
  },
  {
   "cell_type": "code",
   "execution_count": null,
   "id": "789a6d90",
   "metadata": {},
   "outputs": [
    {
     "data": {
      "text/html": [
       "<div>\n",
       "<style scoped>\n",
       "    .dataframe tbody tr th:only-of-type {\n",
       "        vertical-align: middle;\n",
       "    }\n",
       "\n",
       "    .dataframe tbody tr th {\n",
       "        vertical-align: top;\n",
       "    }\n",
       "\n",
       "    .dataframe thead th {\n",
       "        text-align: right;\n",
       "    }\n",
       "</style>\n",
       "<table border=\"1\" class=\"dataframe\">\n",
       "  <thead>\n",
       "    <tr style=\"text-align: right;\">\n",
       "      <th></th>\n",
       "      <th>Discount</th>\n",
       "      <th>Profit</th>\n",
       "    </tr>\n",
       "  </thead>\n",
       "  <tbody>\n",
       "    <tr>\n",
       "      <th>Discount</th>\n",
       "      <td>1.00000</td>\n",
       "      <td>-0.12028</td>\n",
       "    </tr>\n",
       "    <tr>\n",
       "      <th>Profit</th>\n",
       "      <td>-0.12028</td>\n",
       "      <td>1.00000</td>\n",
       "    </tr>\n",
       "  </tbody>\n",
       "</table>\n",
       "</div>"
      ],
      "text/plain": [
       "          Discount   Profit\n",
       "Discount   1.00000 -0.12028\n",
       "Profit    -0.12028  1.00000"
      ]
     },
     "execution_count": 49,
     "metadata": {},
     "output_type": "execute_result"
    }
   ],
   "source": [
    "data2=data[[\"Discount\",\"Profit\"]]\n",
    "data2.corr()"
   ]
  },
  {
   "cell_type": "markdown",
   "id": "33cc98a0",
   "metadata": {},
   "source": [
    "#Correlation Between Discount and sales"
   ]
  },
  {
   "cell_type": "code",
   "execution_count": null,
   "id": "dc96d870",
   "metadata": {},
   "outputs": [
    {
     "data": {
      "text/html": [
       "<div>\n",
       "<style scoped>\n",
       "    .dataframe tbody tr th:only-of-type {\n",
       "        vertical-align: middle;\n",
       "    }\n",
       "\n",
       "    .dataframe tbody tr th {\n",
       "        vertical-align: top;\n",
       "    }\n",
       "\n",
       "    .dataframe thead th {\n",
       "        text-align: right;\n",
       "    }\n",
       "</style>\n",
       "<table border=\"1\" class=\"dataframe\">\n",
       "  <thead>\n",
       "    <tr style=\"text-align: right;\">\n",
       "      <th></th>\n",
       "      <th>Discount</th>\n",
       "      <th>Sales</th>\n",
       "    </tr>\n",
       "  </thead>\n",
       "  <tbody>\n",
       "    <tr>\n",
       "      <th>Discount</th>\n",
       "      <td>1.00000</td>\n",
       "      <td>-0.01744</td>\n",
       "    </tr>\n",
       "    <tr>\n",
       "      <th>Sales</th>\n",
       "      <td>-0.01744</td>\n",
       "      <td>1.00000</td>\n",
       "    </tr>\n",
       "  </tbody>\n",
       "</table>\n",
       "</div>"
      ],
      "text/plain": [
       "          Discount    Sales\n",
       "Discount   1.00000 -0.01744\n",
       "Sales     -0.01744  1.00000"
      ]
     },
     "execution_count": 52,
     "metadata": {},
     "output_type": "execute_result"
    }
   ],
   "source": [
    "data3=data[[\"Discount\",\"Sales\"]]\n",
    "data3.corr()"
   ]
  },
  {
   "cell_type": "code",
   "execution_count": 44,
   "id": "2c247153",
   "metadata": {},
   "outputs": [],
   "source": [
    "data[\"Cost\"] = data[\"Sales\"] - data[\"Profit\"]\n",
    "loss_data = data[data[\"Profit\"] < 0]\n"
   ]
  },
  {
   "cell_type": "code",
   "execution_count": 45,
   "id": "7ed94cb2",
   "metadata": {},
   "outputs": [
    {
     "name": "stdout",
     "output_type": "stream",
     "text": [
      "Index(['Row ID', 'Order ID', 'Order Date', 'Ship Date', 'Ship Mode',\n",
      "       'Customer ID', 'Customer Name', 'Segment', 'Country', 'City', 'State',\n",
      "       'Postal Code', 'Region', 'Product ID', 'Category', 'Sub-Category',\n",
      "       'Product Name', 'Sales', 'Quantity', 'Discount', 'Profit', 'Months',\n",
      "       'day_of_week', 'years', 'monthly_sales', 'Quarter', 'Season', 'Cost'],\n",
      "      dtype='object')\n"
     ]
    }
   ],
   "source": [
    "print(loss_data.columns)\n"
   ]
  },
  {
   "cell_type": "code",
   "execution_count": 47,
   "id": "31db1e52",
   "metadata": {},
   "outputs": [
    {
     "name": "stdout",
     "output_type": "stream",
     "text": [
      "Months\n",
      "1    -175921.91\n",
      "2    -148318.58\n",
      "3    -212275.13\n",
      "4    -208056.37\n",
      "5    -183495.46\n",
      "6    -134378.15\n",
      "7    -104776.60\n",
      "8    -122783.80\n",
      "9    -113562.08\n",
      "10   -118556.29\n",
      "11   -110875.12\n",
      "12   -129431.92\n",
      "Name: Profit, dtype: float64\n"
     ]
    }
   ],
   "source": [
    "monthly_loss = loss_data.groupby(\"Months\")[\"Profit\"].sum().sort_index()\n",
    "print(monthly_loss)\n"
   ]
  },
  {
   "cell_type": "code",
   "execution_count": 48,
   "id": "d59f368a",
   "metadata": {},
   "outputs": [
    {
     "name": "stdout",
     "output_type": "stream",
     "text": [
      "Category                Sub-Category    \n",
      "Sports & Fitness        Dumbbells          -257873.47\n",
      "                        Yoga Mat            -96655.60\n",
      "                        Cricket Bat         -87862.98\n",
      "Fashion                 Jeans               -67737.89\n",
      "Electronics             Smartphone          -67427.68\n",
      "Home & Kitchen          Cookware Set        -63457.35\n",
      "                        Bedsheet            -62831.85\n",
      "Books                   Comics              -62637.00\n",
      "Fashion                 Shoes               -62386.43\n",
      "Beauty & Personal Care  Moisturizer         -61695.89\n",
      "Home & Kitchen          Mixer Grinder       -61274.95\n",
      "Electronics             Power Bank          -60250.67\n",
      "Beauty & Personal Care  Shampoo             -59736.33\n",
      "Books                   Biography           -58166.74\n",
      "Beauty & Personal Care  Perfume             -58038.54\n",
      "Books                   Children            -57463.52\n",
      "                        Fiction             -56266.86\n",
      "Sports & Fitness        Tennis Racquet      -56179.00\n",
      "Home & Kitchen          Curtains            -55902.24\n",
      "Books                   Exam Preparation    -55405.61\n",
      "Sports & Fitness        Football            -54307.58\n",
      "Fashion                 Kurtis              -54067.78\n",
      "Home & Kitchen          Storage Box         -52886.05\n",
      "Fashion                 Saree               -50812.16\n",
      "                        T-Shirt             -44132.52\n",
      "Electronics             Smartwatch          -30850.77\n",
      "Beauty & Personal Care  Face Wash            -3782.53\n",
      "Electronics             Earphones            -2046.80\n",
      "                        Laptop                -294.62\n",
      "Name: Profit, dtype: float64\n"
     ]
    }
   ],
   "source": [
    "loss_by_category = loss_data.groupby(['Category', 'Sub-Category'])[\"Profit\"].sum().sort_values()\n",
    "print(loss_by_category)\n"
   ]
  },
  {
   "cell_type": "markdown",
   "id": "6eb6f663",
   "metadata": {},
   "source": [
    "net profit or net loss\n"
   ]
  },
  {
   "cell_type": "code",
   "execution_count": 50,
   "id": "6dc0d1bc",
   "metadata": {},
   "outputs": [
    {
     "name": "stdout",
     "output_type": "stream",
     "text": [
      "           Profit  Loss month\n",
      "Months                       \n",
      "1       586100.84       False\n",
      "2       497607.54       False\n",
      "3       554644.29       False\n",
      "4       481004.06       False\n",
      "5       578634.87       False\n",
      "6       500931.42       False\n",
      "7       393134.69       False\n",
      "8       395124.15       False\n",
      "9       370964.07       False\n",
      "10      391923.10       False\n",
      "11      331962.44       False\n",
      "12      445864.01       False\n"
     ]
    }
   ],
   "source": [
    "# Step 1: Group and calculate monthly total profit\n",
    "monthly_profit = data.groupby(\"Months\")[[\"Profit\"]].sum().sort_index()\n",
    "\n",
    "# Step 2: Add a column to flag months with losses\n",
    "monthly_profit[\"Loss month\"] = monthly_profit[\"Profit\"] < 0\n",
    "\n",
    "# Step 3: Print the result\n",
    "print(monthly_profit)\n"
   ]
  },
  {
   "cell_type": "markdown",
   "id": "8c37edb5",
   "metadata": {},
   "source": [
    "TO FIND monthly and quartnry trends "
   ]
  },
  {
   "cell_type": "code",
   "execution_count": 22,
   "id": "8f34b3f1",
   "metadata": {},
   "outputs": [
    {
     "name": "stdout",
     "output_type": "stream",
     "text": [
      "              Sales     Profit\n",
      "Months                        \n",
      "1       14634376.73  586100.84\n",
      "2       13090243.31  497607.54\n",
      "3       15140425.62  554644.29\n",
      "4       14495834.64  481004.06\n",
      "5       15095635.21  578634.87\n",
      "6       12236150.98  500931.42\n",
      "7        9746548.36  393134.69\n",
      "8       10524629.47  395124.15\n",
      "9        9265305.45  370964.07\n",
      "10      10173888.07  391923.10\n",
      "11       8975522.40  331962.44\n",
      "12      10986851.99  445864.01\n"
     ]
    }
   ],
   "source": [
    "monthly_trend = data.groupby(\"Months\")[[\"Sales\", \"Profit\"]].sum()\n",
    "print(monthly_trend)"
   ]
  },
  {
   "cell_type": "code",
   "execution_count": 23,
   "id": "f52c2455",
   "metadata": {},
   "outputs": [
    {
     "name": "stdout",
     "output_type": "stream",
     "text": [
      "               Sales      Profit\n",
      "Quarter                         \n",
      "Q1       42865045.66  1638352.67\n",
      "Q2       41827620.83  1560570.35\n",
      "Q3       29536483.28  1159222.91\n",
      "Q4       30136262.46  1169749.55\n"
     ]
    }
   ],
   "source": [
    "data[\"Quarter\"] = data[\"Months\"].apply(lambda x: f\"Q{((x-1)//3)+1}\")\n",
    "quarterly_trend = data.groupby(\"Quarter\")[[\"Sales\", \"Profit\"]].sum()\n",
    "print(quarterly_trend)"
   ]
  },
  {
   "cell_type": "markdown",
   "id": "04f07fbb",
   "metadata": {},
   "source": [
    "to find seasonal sales and profit"
   ]
  },
  {
   "cell_type": "code",
   "execution_count": 24,
   "id": "569c4b8a",
   "metadata": {},
   "outputs": [],
   "source": [
    "def get_season(month):\n",
    "    if month in [12, 1, 2]:\n",
    "        return \"Winter\"\n",
    "    elif month in [3, 4]:\n",
    "        return \"Spring\"\n",
    "    elif month in [5, 6]:\n",
    "        return \"Summer\"\n",
    "    elif month in [7, 8, 9]:\n",
    "        return \"Monsoon\"\n",
    "    else:\n",
    "        return \"Autumn\"\n",
    "\n",
    "data[\"Season\"] = data[\"Months\"].apply(get_season)\n"
   ]
  },
  {
   "cell_type": "code",
   "execution_count": 25,
   "id": "2cec0625",
   "metadata": {},
   "outputs": [
    {
     "name": "stdout",
     "output_type": "stream",
     "text": [
      "Season\n",
      "Winter     38711472.03\n",
      "Spring     29636260.26\n",
      "Monsoon    29536483.28\n",
      "Summer     27331786.19\n",
      "Autumn     19149410.47\n",
      "Name: Sales, dtype: float64\n"
     ]
    }
   ],
   "source": [
    "seasonal_sales = data.groupby(\"Season\")[\"Sales\"].sum().sort_values(ascending=False)\n",
    "print(seasonal_sales)\n"
   ]
  },
  {
   "cell_type": "code",
   "execution_count": 26,
   "id": "8f97a155",
   "metadata": {},
   "outputs": [
    {
     "name": "stdout",
     "output_type": "stream",
     "text": [
      "Season\n",
      "Winter     1529572.39\n",
      "Monsoon    1159222.91\n",
      "Summer     1079566.29\n",
      "Spring     1035648.35\n",
      "Autumn      723885.54\n",
      "Name: Profit, dtype: float64\n"
     ]
    }
   ],
   "source": [
    "seasonal_profit = data.groupby(\"Season\")[\"Profit\"].sum().sort_values(ascending=False)\n",
    "print(seasonal_profit)"
   ]
  },
  {
   "cell_type": "code",
   "execution_count": null,
   "id": "78ab0694",
   "metadata": {},
   "outputs": [],
   "source": []
  }
 ],
 "metadata": {
  "kernelspec": {
   "display_name": "Python 3",
   "language": "python",
   "name": "python3"
  },
  "language_info": {
   "codemirror_mode": {
    "name": "ipython",
    "version": 3
   },
   "file_extension": ".py",
   "mimetype": "text/x-python",
   "name": "python",
   "nbconvert_exporter": "python",
   "pygments_lexer": "ipython3",
   "version": "3.13.4"
  }
 },
 "nbformat": 4,
 "nbformat_minor": 5
}
